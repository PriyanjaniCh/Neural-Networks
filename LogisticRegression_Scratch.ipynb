{
  "nbformat": 4,
  "nbformat_minor": 0,
  "metadata": {
    "colab": {
      "name": "LogisticRegression_Scratch.ipynb",
      "provenance": [],
      "collapsed_sections": []
    },
    "kernelspec": {
      "name": "python3",
      "display_name": "Python 3"
    }
  },
  "cells": [
    {
      "cell_type": "code",
      "metadata": {
        "id": "35Z3hIoCUVVh",
        "colab_type": "code",
        "colab": {}
      },
      "source": [
        "import numpy as np\n",
        "import pandas as pd\n",
        "import matplotlib.pyplot as plt"
      ],
      "execution_count": 0,
      "outputs": []
    },
    {
      "cell_type": "code",
      "metadata": {
        "id": "17wdPF5yS695",
        "colab_type": "code",
        "colab": {}
      },
      "source": [
        "def cost_function(features, label, weights):\n",
        "  ''' Calculating the cost '''\n",
        "  N = len(label)\n",
        "  fx = np.dot(features, weights)\n",
        "  z= np.multiply(label,fx)\n",
        "\n",
        "  cost = np.sum(np.log(1 + np.exp(-z)))\n",
        "  return cost/N "
      ],
      "execution_count": 0,
      "outputs": []
    },
    {
      "cell_type": "code",
      "metadata": {
        "id": "vOrvuHfqTHCc",
        "colab_type": "code",
        "colab": {}
      },
      "source": [
        "def calc_gradient(features, label, weights):\n",
        "    ''' Calculating gradient '''\n",
        "\n",
        "    N = len(label)\n",
        "\n",
        "    wt_x = np.dot(features, weights.T)\n",
        "    y_wt_x = label*wt_x\n",
        "    z = (1 + np.exp(y_wt_x))\n",
        "    \n",
        "    grad = np.dot( np.divide(label,z), features)\n",
        "    gradient = -grad/N\n",
        "    return gradient  \n"
      ],
      "execution_count": 0,
      "outputs": []
    },
    {
      "cell_type": "code",
      "metadata": {
        "id": "WEZZnbqKWT-R",
        "colab_type": "code",
        "colab": {}
      },
      "source": [
        "def logistic_regression_PB(features, label, num_steps, learning_rate, with_intercept = False):\n",
        "  ''' Implementing the Logistic Regression for getting optimal weights'''\n",
        "    \n",
        "  if with_intercept:\n",
        "      features = intercept_addition(features)        \n",
        "  weights = np.zeros(features.shape[1])\n",
        "  for step in range(num_steps):\n",
        "     gradient = calc_gradient(features, label, weights)\n",
        "     weights -= learning_rate * gradient\n",
        "     if step % 1000 == 0:\n",
        "        print(cost_function(features, label, weights), weights)\n",
        "\n",
        "  return weights\n"
      ],
      "execution_count": 0,
      "outputs": []
    },
    {
      "cell_type": "code",
      "metadata": {
        "id": "UC8IsePWm7tX",
        "colab_type": "code",
        "colab": {}
      },
      "source": [
        "def intercept_addition(features):\n",
        "  ''' Adding an extra column in features with value 1 for with_intercept '''\n",
        "  intercept = np.ones((features.shape[0], 1))\n",
        "  features = np.hstack((intercept, features))\n",
        "  return features"
      ],
      "execution_count": 0,
      "outputs": []
    },
    {
      "cell_type": "code",
      "metadata": {
        "id": "NZALi3fcTi0C",
        "colab_type": "code",
        "colab": {}
      },
      "source": [
        "def sigmoid_function(z):\n",
        "  ''' Implementing Sigmoid function '''\n",
        "  return (1/(1 + np.exp(-1*z)))"
      ],
      "execution_count": 0,
      "outputs": []
    },
    {
      "cell_type": "code",
      "metadata": {
        "id": "TqF9krVvTlBc",
        "colab_type": "code",
        "colab": {}
      },
      "source": [
        "def predicting_labels(features, weights, with_intercept = False):\n",
        "    ''' Testing the Logistic Regression Model by predicting the labels'''\n",
        "    if with_intercept:\n",
        "        features = intercept_addition(features)\n",
        "    \n",
        "    z= np.dot(features, weights)\n",
        "    sigmoid = sigmoid_function(z)\n",
        "    labels_pred = np.ones(sigmoid.shape)\n",
        "    for i in range(len(labels_pred)):\n",
        "        if sigmoid[i] < 0.5:\n",
        "            labels_pred[i] *= -1 \n",
        "    return labels_pred"
      ],
      "execution_count": 0,
      "outputs": []
    },
    {
      "cell_type": "code",
      "metadata": {
        "id": "MgcwmDVlcM0e",
        "colab_type": "code",
        "colab": {}
      },
      "source": [
        "# Generating dataset\n",
        "np.random.seed(12)\n",
        "num_observations = 5000\n",
        "\n",
        "x1 = np.random.multivariate_normal([0, 0], [[1, .75],[.75, 1]], num_observations)\n",
        "x2 = np.random.multivariate_normal([1, 4], [[1, .75],[.75, 1]], num_observations)\n",
        "\n",
        "features = np.vstack((x1, x2)).astype(np.float32)\n",
        "label = np.hstack((np.full(num_observations,-1), np.ones(num_observations)))"
      ],
      "execution_count": 0,
      "outputs": []
    },
    {
      "cell_type": "code",
      "metadata": {
        "id": "XSR3aKIjcOuM",
        "colab_type": "code",
        "outputId": "c1f7a8b0-e03a-4242-b499-4434cce70fc4",
        "colab": {
          "base_uri": "https://localhost:8080/",
          "height": 295
        }
      },
      "source": [
        "# Visualising the whole dataset \n",
        "plt.scatter(features[:,0],features[:,1], label='[+1]', alpha = 0.1, c = label)\n",
        "plt.scatter(features[:,0],features[:,-1], alpha = 0.1, c = label, label='[-1]')\n",
        "plt.title('Logistic Regression (Whole Data)')\n",
        "plt.xlabel('Feature 1')\n",
        "plt.ylabel('Feature 2')\n",
        "plt.legend()\n",
        "plt.show()"
      ],
      "execution_count": 0,
      "outputs": [
        {
          "output_type": "display_data",
          "data": {
            "image/png": "[encoded data removed]",
            "text/plain": [
              "<Figure size 432x288 with 1 Axes>"
            ]
          },
          "metadata": {
            "tags": []
          }
        }
      ]
    },
    {
      "cell_type": "code",
      "metadata": {
        "id": "LMWf0ItbNM6A",
        "colab_type": "code",
        "colab": {}
      },
      "source": [
        "# Splitting the dataset into training and testing data\n",
        "\n",
        "df_features = pd.DataFrame(features)\n",
        "df_label = pd.DataFrame(label)\n",
        "df_data = pd.concat([df_label, df_features], axis = 1, ignore_index=True)\n",
        "data = np.array(df_data)\n",
        "np.random.shuffle(data)\n",
        "label_shuffled = data[:,0]\n",
        "features_shuffled = data[:, 1:]\n",
        "\n",
        "features_train = features_shuffled[:8000]\n",
        "features_test = features_shuffled[8000:]\n",
        "\n",
        "label_train = label_shuffled[:8000]\n",
        "label_test = label_shuffled[8000:]\n"
      ],
      "execution_count": 0,
      "outputs": []
    },
    {
      "cell_type": "markdown",
      "metadata": {
        "id": "e9Tg-uM0Xed9",
        "colab_type": "text"
      },
      "source": [
        "# Without intercept"
      ]
    },
    {
      "cell_type": "code",
      "metadata": {
        "id": "U6Q8JEHQToVf",
        "colab_type": "code",
        "outputId": "e8974d40-c388-44a7-c646-43fad49ff1f4",
        "colab": {
          "base_uri": "https://localhost:8080/",
          "height": 217
        }
      },
      "source": [
        "# Training without intercepts\n",
        "\n",
        "weights = logistic_regression_PB(features_train, label_train, 10000, 0.001)\n",
        "print(\"\\n Weights : \", weights)"
      ],
      "execution_count": 0,
      "outputs": [
        {
          "output_type": "stream",
          "text": [
            "0.6920546817638881 [0.00025211 0.00101504]\n",
            "0.4380817096412204 [0.07237793 0.44647166]\n",
            "0.4170899691722831 [0.05320648 0.58653602]\n",
            "0.4101257877470287 [0.01791344 0.66132461]\n",
            "0.40621781871248747 [-0.02181887  0.70929909]\n",
            "0.4034123309699214 [-0.06210842  0.7435624 ]\n",
            "0.40117368602320197 [-0.10132114  0.76998018]\n",
            "0.3993076242538587 [-0.13872286  0.79155985]\n",
            "0.3977230941800361 [-0.1740042  0.8099679]\n",
            "0.3963661966166261 [-0.20707375  0.82617462]\n",
            "\n",
            " Weights :  [-0.23792583  0.84075178]\n"
          ],
          "name": "stdout"
        }
      ]
    },
    {
      "cell_type": "code",
      "metadata": {
        "id": "Le-jk_CJU_qB",
        "colab_type": "code",
        "colab": {}
      },
      "source": [
        "# Testing without intercepts\n",
        "predicted_labels = predicting_labels(features_test, weights)\n",
        "\n",
        "# Finding the confusion matrix and accuracy score\n",
        "from sklearn.metrics import confusion_matrix, accuracy_score\n",
        "confusion__m = confusion_matrix(label_test, predicted_labels)\n",
        "accuracy = accuracy_score(label_test, predicted_labels)\n"
      ],
      "execution_count": 0,
      "outputs": []
    },
    {
      "cell_type": "code",
      "metadata": {
        "id": "8Jo1jMJsV-8E",
        "colab_type": "code",
        "outputId": "1306eace-ac8e-430b-f1d5-6a9a53dad8c0",
        "colab": {
          "base_uri": "https://localhost:8080/",
          "height": 70
        }
      },
      "source": [
        "# Implementing in scikit learn without intercept\n",
        "\n",
        "from sklearn.linear_model import LogisticRegression\n",
        "\n",
        "classifier = LogisticRegression(fit_intercept = False)\n",
        "classifier.fit(features_train, label_train)\n",
        "\n",
        "predicted_labels_sk = classifier.predict(features_test)\n",
        "\n",
        "confusion__m_sk = confusion_matrix(label_test, predicted_labels_sk)\n",
        "accuracy_sk = accuracy_score(label_test, predicted_labels_sk)\n"
      ],
      "execution_count": 0,
      "outputs": [
        {
          "output_type": "stream",
          "text": [
            "/usr/local/lib/python3.6/dist-packages/sklearn/linear_model/logistic.py:432: FutureWarning: Default solver will be changed to 'lbfgs' in 0.22. Specify a solver to silence this warning.\n",
            "  FutureWarning)\n"
          ],
          "name": "stderr"
        }
      ]
    },
    {
      "cell_type": "code",
      "metadata": {
        "id": "NMYXfhM0XukX",
        "colab_type": "code",
        "outputId": "11c32c78-a5d2-4fa4-d86e-955faee47076",
        "colab": {
          "base_uri": "https://localhost:8080/",
          "height": 268
        }
      },
      "source": [
        "print(\" ========= Logistic Regression without intercept ========= \")\n",
        "print(\"\\n === LR Model from Scratch === \")\n",
        "print(\"Optimal weights :\",weights)\n",
        "print(\"Confusion Matrix: \\n\", confusion__m)\n",
        "print(\"Accuracy of model from scratch: \", accuracy)\n",
        "\n",
        "print(\"\\n === LR Model from Scikit Learn === \")\n",
        "print(\"Weights from scikit learn model: \", classifier.coef_)\n",
        "print(\"Confusion Matrix: \\n\", confusion__m_sk)\n",
        "print(\"Accuracy of scikit learn model: \", accuracy_sk)\n"
      ],
      "execution_count": 0,
      "outputs": [
        {
          "output_type": "stream",
          "text": [
            " ========= Logistic Regression without intercept ========= \n",
            "\n",
            " === LR Model from Scratch === \n",
            "Optimal weights : [-0.23792583  0.84075178]\n",
            "Confusion Matrix: \n",
            " [[469 572]\n",
            " [  0 959]]\n",
            "Accuracy of model from scratch:  0.714\n",
            "\n",
            " === LR Model from Scikit Learn === \n",
            "Weights from scikit learn model:  [[-0.68064592  1.05995992]]\n",
            "Confusion Matrix: \n",
            " [[486 555]\n",
            " [  0 959]]\n",
            "Accuracy of scikit learn model:  0.7225\n"
          ],
          "name": "stdout"
        }
      ]
    },
    {
      "cell_type": "markdown",
      "metadata": {
        "id": "cYCQgOvAXsVz",
        "colab_type": "text"
      },
      "source": [
        "# With Intercept"
      ]
    },
    {
      "cell_type": "code",
      "metadata": {
        "id": "0gHF90o9UW7o",
        "colab_type": "code",
        "outputId": "310673d8-fbcf-4401-a815-862887851653",
        "colab": {
          "base_uri": "https://localhost:8080/",
          "height": 301
        }
      },
      "source": [
        "# Training with intercepts\n",
        "weights_with_int = logistic_regression_PB(features_train, label_train, 15000, 0.001, True)\n",
        "print(\"\\n Weights : \", weights_with_int)"
      ],
      "execution_count": 0,
      "outputs": [
        {
          "output_type": "stream",
          "text": [
            "0.6920546582990641 [5.12500000e-06 2.52114920e-04 1.01503888e-03]\n",
            "0.41757243057161875 [-0.11271682  0.07397947  0.45536308]\n",
            "0.36487402473692276 [-0.27350169  0.05720366  0.6155735 ]\n",
            "0.3291173785891026 [-0.43033972  0.02396152  0.71528879]\n",
            "0.30045132008363223 [-0.57686631 -0.01410844  0.79088806]\n",
            "0.27655357924401325 [-0.71230164 -0.05316202  0.85424489]\n",
            "0.2563005086240213 [-0.83726036 -0.09163691  0.91034899]\n",
            "0.23894636752365073 [-0.95273694 -0.12887097  0.96158684]\n",
            "0.2239388402021091 [-1.05977324 -0.16460613  1.0092102 ]\n",
            "0.21085286566345865 [-1.15934063 -0.19877572  1.05393487]\n",
            "0.19935564302745729 [-1.2523031  -0.23140463  1.09620876]\n",
            "0.1891836895660196 [-1.33941301 -0.26256019  1.13633866]\n",
            "0.18012643992902866 [-1.42131958 -0.29232732  1.17455257]\n",
            "0.17201413949050334 [-1.49858138 -0.32079598  1.21103135]\n",
            "0.16470878141474607 [-1.57167931 -0.34805483  1.24592534]\n",
            "\n",
            " Weights :  [-1.64096079 -0.37416264  1.27933079]\n"
          ],
          "name": "stdout"
        }
      ]
    },
    {
      "cell_type": "code",
      "metadata": {
        "id": "6lBOEAC7Vh_S",
        "colab_type": "code",
        "colab": {}
      },
      "source": [
        "# Testing with intercepts\n",
        "predicted_labels_int = predicting_labels(features_test, weights_with_int, True)\n",
        "\n",
        "# Finding the confusion matrix and accuracy score\n",
        "confusion__m_int = confusion_matrix(label_test, predicted_labels_int)\n",
        "accuracy_int = accuracy_score(label_test, predicted_labels_int)"
      ],
      "execution_count": 0,
      "outputs": []
    },
    {
      "cell_type": "code",
      "metadata": {
        "id": "XAdrMvrPV68Y",
        "colab_type": "code",
        "outputId": "66780540-5911-4bc1-ab2c-0cce3055ef85",
        "colab": {
          "base_uri": "https://localhost:8080/",
          "height": 70
        }
      },
      "source": [
        "# Implementing sklearn with intercept\n",
        "\n",
        "classifier = LogisticRegression(fit_intercept = True)\n",
        "classifier.fit(features_train, label_train)\n",
        "\n",
        "predicted_label_int_sk = classifier.predict(features_test)\n",
        "\n",
        "confusion__m_int_sk = confusion_matrix(label_test, predicted_label_int_sk)\n",
        "accuracy_int_sk = accuracy_score(label_test, predicted_label_int_sk)"
      ],
      "execution_count": 0,
      "outputs": [
        {
          "output_type": "stream",
          "text": [
            "/usr/local/lib/python3.6/dist-packages/sklearn/linear_model/logistic.py:432: FutureWarning: Default solver will be changed to 'lbfgs' in 0.22. Specify a solver to silence this warning.\n",
            "  FutureWarning)\n"
          ],
          "name": "stderr"
        }
      ]
    },
    {
      "cell_type": "code",
      "metadata": {
        "id": "rZP-0syEVgqa",
        "colab_type": "code",
        "outputId": "01d6682c-b73e-4f46-d2f0-d67c14425e9a",
        "colab": {
          "base_uri": "https://localhost:8080/",
          "height": 284
        }
      },
      "source": [
        "print(\" ========= Logistic Regression with intercept ========= \")\n",
        "print(\"\\n === LR Model from Scratch === \")\n",
        "print(\"Optimal weights :\",weights_with_int)\n",
        "print(\"Confusion Matrix: \\n\", confusion__m_int)\n",
        "print(\"Accuracy of model from scratch: \", accuracy_int)\n",
        "\n",
        "print(\"\\n === LR Model from Scikit Learn === \")\n",
        "print(\"Weights from scikit learn model: \", classifier.coef_)\n",
        "print(\"Intercept from scikit learn model: \", classifier.intercept_)\n",
        "print(\"Confusion Matrix: \\n\", confusion__m_int_sk)\n",
        "print(\"Accuracy of scikit learn model: \", accuracy_int_sk)\n"
      ],
      "execution_count": 0,
      "outputs": [
        {
          "output_type": "stream",
          "text": [
            " ========= Logistic Regression with intercept ========= \n",
            "\n",
            " === LR Model from Scratch === \n",
            "Optimal weights : [-1.64096079 -0.37416264  1.27933079]\n",
            "Confusion Matrix: \n",
            " [[983  58]\n",
            " [  1 958]]\n",
            "Accuracy of model from scratch:  0.9705\n",
            "\n",
            " === LR Model from Scikit Learn === \n",
            "Weights from scikit learn model:  [[-3.1987953   5.20373536]]\n",
            "Intercept from scikit learn model:  [-8.71591651]\n",
            "Confusion Matrix: \n",
            " [[1038    3]\n",
            " [   5  954]]\n",
            "Accuracy of scikit learn model:  0.996\n"
          ],
          "name": "stdout"
        }
      ]
    }
  ]
}